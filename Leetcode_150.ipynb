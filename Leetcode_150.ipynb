{
  "nbformat": 4,
  "nbformat_minor": 0,
  "metadata": {
    "colab": {
      "provenance": [],
      "authorship_tag": "ABX9TyMwEtNhVSBAJbe86eNI4e7H",
      "include_colab_link": true
    },
    "kernelspec": {
      "name": "python3",
      "display_name": "Python 3"
    },
    "language_info": {
      "name": "python"
    }
  },
  "cells": [
    {
      "cell_type": "markdown",
      "metadata": {
        "id": "view-in-github",
        "colab_type": "text"
      },
      "source": [
        "<a href=\"https://colab.research.google.com/github/shuvad23/Leetcode-Problems/blob/main/Leetcode_150.ipynb\" target=\"_parent\"><img src=\"https://colab.research.google.com/assets/colab-badge.svg\" alt=\"Open In Colab\"/></a>"
      ]
    },
    {
      "cell_type": "markdown",
      "source": [
        "### Kadane's Algorithm"
      ],
      "metadata": {
        "id": "bbgn6v-dTn4w"
      }
    },
    {
      "cell_type": "code",
      "execution_count": null,
      "metadata": {
        "colab": {
          "base_uri": "https://localhost:8080/"
        },
        "id": "-p9aYm1tTiUt",
        "outputId": "1dbb7666-b848-4cb5-98e3-11a6614830fb"
      },
      "outputs": [
        {
          "output_type": "stream",
          "name": "stdout",
          "text": [
            "(6, (2, 8))\n",
            "6\n"
          ]
        }
      ],
      "source": [
        "# 53. Maximum Subarray\n",
        "def maximum_subarray(nums):\n",
        "  current_sum=0\n",
        "  max_sum=float('-inf')\n",
        "  start=0\n",
        "  end=0\n",
        "  for i in range (len(nums)):\n",
        "    current_sum+=nums[i]\n",
        "    max_sum=max(current_sum,max_sum)\n",
        "    end=i\n",
        "    if(current_sum<0):\n",
        "      current_sum=0\n",
        "      start=i\n",
        "  return max_sum,(start,end)\n",
        "arr=[-2,1,-3,4,-1,2,1,-5,4]\n",
        "print(maximum_subarray(arr))\n",
        "\n",
        "\n",
        "\n",
        "def maximum_subarray(nums):\n",
        "  current_sum=0\n",
        "  max_sum=float('-inf')\n",
        "  for i in range (len(nums)):\n",
        "    current_sum+=nums[i]\n",
        "    max_sum=max(current_sum,max_sum)\n",
        "    if(current_sum<0):\n",
        "      current_sum=0\n",
        "  return max_sum\n",
        "arr=[-2,1,-3,4,-1,2,1,-5,4]\n",
        "print(maximum_subarray(arr))"
      ]
    },
    {
      "cell_type": "markdown",
      "source": [
        ">Note:\n",
        "\n",
        "1. Circular_max_subarray=total_sum_of_array - min_subarray(Kadane's Algorithm)\n",
        "2. max_subarray=Kadane's Algorithm"
      ],
      "metadata": {
        "id": "TQXJKQH2OKmf"
      }
    },
    {
      "cell_type": "code",
      "source": [
        "# 918. Maximum Sum Circular Subarray\n",
        "def maximum_subarr(nums):\n",
        "  current_sum=0\n",
        "  max_sum=float('-inf')\n",
        "  for i in range (len(nums)):\n",
        "    current_sum+=nums[i]\n",
        "    max_sum=max(current_sum,max_sum)\n",
        "    if(current_sum<0):\n",
        "      current_sum=0\n",
        "  return max_sum\n",
        "def minimum_subarr(nums):\n",
        "  current_sum=0\n",
        "  min_sum=float('inf')\n",
        "  for i in range (len(nums)):\n",
        "    current_sum+=nums[i]\n",
        "    min_sum=min(current_sum,min_sum)\n",
        "    if(current_sum>0):\n",
        "      current_sum=0\n",
        "  return min_sum\n",
        "def maximum_circular_subarray(nums):\n",
        "  max_sum=maximum_subarr(nums)\n",
        "  min_sum=minimum_subarr(nums)\n",
        "  total_sum=sum(nums)\n",
        "  if(min_sum==total_sum):\n",
        "    return max_sum\n",
        "  return max(max_sum,total_sum-min_sum)\n",
        "arr=[-3,-2,-3]\n",
        "print(maximum_circular_subarray(arr))"
      ],
      "metadata": {
        "colab": {
          "base_uri": "https://localhost:8080/"
        },
        "id": "bYh8JfBmXvi5",
        "outputId": "d4c25a0e-97ab-4933-887e-489419861739"
      },
      "execution_count": null,
      "outputs": [
        {
          "output_type": "stream",
          "name": "stdout",
          "text": [
            "-2\n"
          ]
        }
      ]
    },
    {
      "cell_type": "markdown",
      "source": [
        "## Other's Problems in Leetcode"
      ],
      "metadata": {
        "id": "RYsgCAp6XLes"
      }
    },
    {
      "cell_type": "code",
      "source": [
        "# 509. Fibonacci Number\n",
        "def fibonacci(n,memo={0:0,1:1}):\n",
        "  if n in memo:\n",
        "    return memo[n]\n",
        "  else:\n",
        "    memo[n]=fibonacci(n-1,memo)+fibonacci(n-2,memo)\n",
        "    return memo[n]\n",
        "print(fibonacci(5))\n",
        "\n",
        "\n",
        "def fibonacci_01(n,memo={0:0,1:1}):\n",
        "  if n not in memo:\n",
        "    memo[n]=fibonacci_01(n-1,memo)+fibonacci_01(n-2,memo)\n",
        "  return memo[n]\n",
        "print(fibonacci_01(5))"
      ],
      "metadata": {
        "colab": {
          "base_uri": "https://localhost:8080/"
        },
        "id": "L-OHRD2OpIiJ",
        "outputId": "8d3416f2-6d51-4466-9e5d-57cc1542f3e0"
      },
      "execution_count": null,
      "outputs": [
        {
          "output_type": "stream",
          "name": "stdout",
          "text": [
            "5\n",
            "5\n"
          ]
        }
      ]
    },
    {
      "cell_type": "code",
      "source": [
        "# 1752. Check if Array Is Sorted and Rotated\n",
        "def issorted_orRotated(arr):\n",
        "  count=0\n",
        "  n=len(arr)\n",
        "  for i in range(n):\n",
        "    if(arr[i]>arr[(i+1)%n]):\n",
        "      count+=1\n",
        "      if(count>1):\n",
        "        return False\n",
        "  return True\n",
        "arr=[5,5,6,6,6,9,1,2]\n",
        "print(issorted_orRotated(arr))"
      ],
      "metadata": {
        "colab": {
          "base_uri": "https://localhost:8080/"
        },
        "id": "DlgPtOGOh59K",
        "outputId": "85c5794d-f9e0-4f7e-91a0-f2f20789eeb1"
      },
      "execution_count": null,
      "outputs": [
        {
          "output_type": "stream",
          "name": "stdout",
          "text": [
            "True\n"
          ]
        }
      ]
    },
    {
      "cell_type": "code",
      "source": [
        "# 704. Binary Search\n",
        "def binary_search(arr,target):\n",
        "  low=0\n",
        "  high=len(arr)\n",
        "  while(high-low)>1:\n",
        "    mid=low+(high-low)//2\n",
        "    if(target==arr[mid]):\n",
        "      return mid\n",
        "    elif(target<arr[mid]):\n",
        "      high=mid\n",
        "    else:\n",
        "      low=mid\n",
        "  return low if arr[low]==target else -1\n",
        "\n",
        "\n",
        "def binary_search_recursive(arr,target,low,high):\n",
        "  if(low<high):\n",
        "    mid=low+(high-low)//2\n",
        "    if(arr[mid]==target):\n",
        "      return mid\n",
        "    elif(target<arr[mid]):\n",
        "      return binary_search_recursive(arr,target,low,mid)\n",
        "    else:\n",
        "      return binary_search_recursive(arr,target,mid,high)\n",
        "  return -1\n",
        "arr=[1,2,3,4,5,6,7]\n",
        "print(binary_search(arr,4))\n",
        "print(binary_search_recursive(arr,4,0,len(arr)))"
      ],
      "metadata": {
        "colab": {
          "base_uri": "https://localhost:8080/"
        },
        "id": "09T91qyonKYo",
        "outputId": "0dd3bf0e-6310-4642-98bb-8e73e4ba933e"
      },
      "execution_count": null,
      "outputs": [
        {
          "output_type": "stream",
          "name": "stdout",
          "text": [
            "3\n",
            "3\n"
          ]
        }
      ]
    },
    {
      "cell_type": "code",
      "source": [
        "# 78. Subsets\n",
        "def subset(set_list,ans,low,result):\n",
        "  if(low==len(set_list)):\n",
        "    return result.append(ans[:])\n",
        "\n",
        "  ans.append(set_list[low])\n",
        "  subset(set_list,ans,low+1,result)\n",
        "  ans.pop()\n",
        "  subset(set_list,ans,low+1,result)\n",
        "  return result\n",
        "\n",
        "set_list=[1,2,3]\n",
        "result=[]\n",
        "ans=[]\n",
        "print(subset(set_list,ans,0,result))"
      ],
      "metadata": {
        "colab": {
          "base_uri": "https://localhost:8080/"
        },
        "id": "_Xw6Phyg8Xf-",
        "outputId": "0ad15874-8070-42ef-bea3-866c16b2394b"
      },
      "execution_count": null,
      "outputs": [
        {
          "output_type": "stream",
          "name": "stdout",
          "text": [
            "[[1, 2, 3], [1, 2], [1, 3], [1], [2, 3], [2], [3], []]\n"
          ]
        }
      ]
    },
    {
      "cell_type": "code",
      "source": [
        "# 90. Subsets II\n",
        "def subset_2(set_list,ans,low,result):\n",
        "  if(low==len(set_list)):\n",
        "    return result.append(ans[:])\n",
        "  ans.append(set_list[low])\n",
        "  subset_2(set_list,ans,low+1,result)\n",
        "  ans.pop()\n",
        "  temp_idx=low+1\n",
        "  while(temp_idx<len(set_list) and set_list[temp_idx-1]==set_list[temp_idx]):\n",
        "    temp_idx+=1\n",
        "  subset_2(set_list,ans,temp_idx,result)\n",
        "  return result\n",
        "\n",
        "set_list=[1,2,2]\n",
        "result=[]\n",
        "ans=[]\n",
        "print(subset_2(sorted(set_list),ans,0,result))"
      ],
      "metadata": {
        "colab": {
          "base_uri": "https://localhost:8080/"
        },
        "id": "xeFITfwFQbWB",
        "outputId": "70b0fd9b-a807-4e16-c35b-13d005510d8e"
      },
      "execution_count": null,
      "outputs": [
        {
          "output_type": "stream",
          "name": "stdout",
          "text": [
            "[[1, 2, 2], [1, 2], [1], [2, 2], [2], []]\n"
          ]
        }
      ]
    },
    {
      "cell_type": "code",
      "source": [
        "# 46. Permutations\n",
        "def permutations(arr,i,ans):\n",
        "  if(i==len(arr)):\n",
        "    return ans.append(arr[:])\n",
        "  for j in range(i,len(arr)):\n",
        "    arr[i],arr[j]=arr[j],arr[i]\n",
        "    permutations(arr,i+1,ans)\n",
        "    arr[i],arr[j]=arr[j],arr[i]\n",
        "  return ans\n",
        "\n",
        "arr=[1,2,3,4]\n",
        "permutations(arr,0,[])"
      ],
      "metadata": {
        "colab": {
          "base_uri": "https://localhost:8080/"
        },
        "id": "qvOFzIBeFGjr",
        "outputId": "be8622d5-cd2c-4b51-e235-881e645cedae"
      },
      "execution_count": null,
      "outputs": [
        {
          "output_type": "execute_result",
          "data": {
            "text/plain": [
              "[[1, 2, 3, 4],\n",
              " [1, 2, 4, 3],\n",
              " [1, 3, 2, 4],\n",
              " [1, 3, 4, 2],\n",
              " [1, 4, 3, 2],\n",
              " [1, 4, 2, 3],\n",
              " [2, 1, 3, 4],\n",
              " [2, 1, 4, 3],\n",
              " [2, 3, 1, 4],\n",
              " [2, 3, 4, 1],\n",
              " [2, 4, 3, 1],\n",
              " [2, 4, 1, 3],\n",
              " [3, 2, 1, 4],\n",
              " [3, 2, 4, 1],\n",
              " [3, 1, 2, 4],\n",
              " [3, 1, 4, 2],\n",
              " [3, 4, 1, 2],\n",
              " [3, 4, 2, 1],\n",
              " [4, 2, 3, 1],\n",
              " [4, 2, 1, 3],\n",
              " [4, 3, 2, 1],\n",
              " [4, 3, 1, 2],\n",
              " [4, 1, 3, 2],\n",
              " [4, 1, 2, 3]]"
            ]
          },
          "metadata": {},
          "execution_count": 38
        }
      ]
    },
    {
      "cell_type": "code",
      "source": [
        "def string_permutation(string_value,i,ans):\n",
        "  if(i==len(string_value)):\n",
        "    return ans.append(''.join(string_value))\n",
        "  for j in range(i,len(string_value)):\n",
        "    string_value[i],string_value[j]=string_value[j],string_value[i]\n",
        "    string_permutation(string_value,i+1,ans)\n",
        "    string_value[i],string_value[j]=string_value[j],string_value[i]\n",
        "  return ans\n",
        "string_value='abc'\n",
        "print(string_permutation(list(string_value),0,[]))"
      ],
      "metadata": {
        "colab": {
          "base_uri": "https://localhost:8080/"
        },
        "id": "ednxfyAk6Fp4",
        "outputId": "5d82ab39-08b4-4981-e07b-9e79043f524e"
      },
      "execution_count": null,
      "outputs": [
        {
          "output_type": "stream",
          "name": "stdout",
          "text": [
            "['abc', 'acb', 'bac', 'bca', 'cba', 'cab']\n"
          ]
        }
      ]
    },
    {
      "cell_type": "code",
      "source": [
        "# 51. N-Queens\n",
        "def isSafe(arr,row,col,n):\n",
        "  for i in range(n):\n",
        "    if(arr[row][i]=='Q'):\n",
        "      return False\n",
        "    if(arr[i][col]=='Q'):\n",
        "      return False\n",
        "    if(row-i>=0 and col-i>=0 and arr[row-i][col-i]=='Q'):\n",
        "      return False\n",
        "    if(row-i>=0 and col+i<len(arr) and arr[row-i][col+i]=='Q'):\n",
        "      return False\n",
        "  return True\n",
        "\n",
        "def n_queens(arr,row,n,ans):\n",
        "  if(row==n):\n",
        "    return ans.append([\"\".join(r[:]) for r in arr])\n",
        "  for col in range(n):\n",
        "    if isSafe(arr,row,col,n):\n",
        "      arr[row][col]='Q'\n",
        "      n_queens(arr,row+1,n,ans)\n",
        "      arr[row][col]='.'\n",
        "  return ans\n",
        "n=8\n",
        "board=[['.']*n for i in range(n)]\n",
        "ans=[]\n",
        "print(n_queens(board,0,n,ans))\n"
      ],
      "metadata": {
        "colab": {
          "base_uri": "https://localhost:8080/"
        },
        "id": "PmRXyI5k6eNs",
        "outputId": "8e9b1bbf-7c3f-4d62-ef66-1d293e966ae0"
      },
      "execution_count": null,
      "outputs": [
        {
          "output_type": "stream",
          "name": "stdout",
          "text": [
            "[['Q.......', '....Q...', '.......Q', '.....Q..', '..Q.....', '......Q.', '.Q......', '...Q....'], ['Q.......', '.....Q..', '.......Q', '..Q.....', '......Q.', '...Q....', '.Q......', '....Q...'], ['Q.......', '......Q.', '...Q....', '.....Q..', '.......Q', '.Q......', '....Q...', '..Q.....'], ['Q.......', '......Q.', '....Q...', '.......Q', '.Q......', '...Q....', '.....Q..', '..Q.....'], ['.Q......', '...Q....', '.....Q..', '.......Q', '..Q.....', 'Q.......', '......Q.', '....Q...'], ['.Q......', '....Q...', '......Q.', 'Q.......', '..Q.....', '.......Q', '.....Q..', '...Q....'], ['.Q......', '....Q...', '......Q.', '...Q....', 'Q.......', '.......Q', '.....Q..', '..Q.....'], ['.Q......', '.....Q..', 'Q.......', '......Q.', '...Q....', '.......Q', '..Q.....', '....Q...'], ['.Q......', '.....Q..', '.......Q', '..Q.....', 'Q.......', '...Q....', '......Q.', '....Q...'], ['.Q......', '......Q.', '..Q.....', '.....Q..', '.......Q', '....Q...', 'Q.......', '...Q....'], ['.Q......', '......Q.', '....Q...', '.......Q', 'Q.......', '...Q....', '.....Q..', '..Q.....'], ['.Q......', '.......Q', '.....Q..', 'Q.......', '..Q.....', '....Q...', '......Q.', '...Q....'], ['..Q.....', 'Q.......', '......Q.', '....Q...', '.......Q', '.Q......', '...Q....', '.....Q..'], ['..Q.....', '....Q...', '.Q......', '.......Q', 'Q.......', '......Q.', '...Q....', '.....Q..'], ['..Q.....', '....Q...', '.Q......', '.......Q', '.....Q..', '...Q....', '......Q.', 'Q.......'], ['..Q.....', '....Q...', '......Q.', 'Q.......', '...Q....', '.Q......', '.......Q', '.....Q..'], ['..Q.....', '....Q...', '.......Q', '...Q....', 'Q.......', '......Q.', '.Q......', '.....Q..'], ['..Q.....', '.....Q..', '.Q......', '....Q...', '.......Q', 'Q.......', '......Q.', '...Q....'], ['..Q.....', '.....Q..', '.Q......', '......Q.', 'Q.......', '...Q....', '.......Q', '....Q...'], ['..Q.....', '.....Q..', '.Q......', '......Q.', '....Q...', 'Q.......', '.......Q', '...Q....'], ['..Q.....', '.....Q..', '...Q....', 'Q.......', '.......Q', '....Q...', '......Q.', '.Q......'], ['..Q.....', '.....Q..', '...Q....', '.Q......', '.......Q', '....Q...', '......Q.', 'Q.......'], ['..Q.....', '.....Q..', '.......Q', 'Q.......', '...Q....', '......Q.', '....Q...', '.Q......'], ['..Q.....', '.....Q..', '.......Q', 'Q.......', '....Q...', '......Q.', '.Q......', '...Q....'], ['..Q.....', '.....Q..', '.......Q', '.Q......', '...Q....', 'Q.......', '......Q.', '....Q...'], ['..Q.....', '......Q.', '.Q......', '.......Q', '....Q...', 'Q.......', '...Q....', '.....Q..'], ['..Q.....', '......Q.', '.Q......', '.......Q', '.....Q..', '...Q....', 'Q.......', '....Q...'], ['..Q.....', '.......Q', '...Q....', '......Q.', 'Q.......', '.....Q..', '.Q......', '....Q...'], ['...Q....', 'Q.......', '....Q...', '.......Q', '.Q......', '......Q.', '..Q.....', '.....Q..'], ['...Q....', 'Q.......', '....Q...', '.......Q', '.....Q..', '..Q.....', '......Q.', '.Q......'], ['...Q....', '.Q......', '....Q...', '.......Q', '.....Q..', 'Q.......', '..Q.....', '......Q.'], ['...Q....', '.Q......', '......Q.', '..Q.....', '.....Q..', '.......Q', 'Q.......', '....Q...'], ['...Q....', '.Q......', '......Q.', '..Q.....', '.....Q..', '.......Q', '....Q...', 'Q.......'], ['...Q....', '.Q......', '......Q.', '....Q...', 'Q.......', '.......Q', '.....Q..', '..Q.....'], ['...Q....', '.Q......', '.......Q', '....Q...', '......Q.', 'Q.......', '..Q.....', '.....Q..'], ['...Q....', '.Q......', '.......Q', '.....Q..', 'Q.......', '..Q.....', '....Q...', '......Q.'], ['...Q....', '.....Q..', 'Q.......', '....Q...', '.Q......', '.......Q', '..Q.....', '......Q.'], ['...Q....', '.....Q..', '.......Q', '.Q......', '......Q.', 'Q.......', '..Q.....', '....Q...'], ['...Q....', '.....Q..', '.......Q', '..Q.....', 'Q.......', '......Q.', '....Q...', '.Q......'], ['...Q....', '......Q.', 'Q.......', '.......Q', '....Q...', '.Q......', '.....Q..', '..Q.....'], ['...Q....', '......Q.', '..Q.....', '.......Q', '.Q......', '....Q...', 'Q.......', '.....Q..'], ['...Q....', '......Q.', '....Q...', '.Q......', '.....Q..', 'Q.......', '..Q.....', '.......Q'], ['...Q....', '......Q.', '....Q...', '..Q.....', 'Q.......', '.....Q..', '.......Q', '.Q......'], ['...Q....', '.......Q', 'Q.......', '..Q.....', '.....Q..', '.Q......', '......Q.', '....Q...'], ['...Q....', '.......Q', 'Q.......', '....Q...', '......Q.', '.Q......', '.....Q..', '..Q.....'], ['...Q....', '.......Q', '....Q...', '..Q.....', 'Q.......', '......Q.', '.Q......', '.....Q..'], ['....Q...', 'Q.......', '...Q....', '.....Q..', '.......Q', '.Q......', '......Q.', '..Q.....'], ['....Q...', 'Q.......', '.......Q', '...Q....', '.Q......', '......Q.', '..Q.....', '.....Q..'], ['....Q...', 'Q.......', '.......Q', '.....Q..', '..Q.....', '......Q.', '.Q......', '...Q....'], ['....Q...', '.Q......', '...Q....', '.....Q..', '.......Q', '..Q.....', 'Q.......', '......Q.'], ['....Q...', '.Q......', '...Q....', '......Q.', '..Q.....', '.......Q', '.....Q..', 'Q.......'], ['....Q...', '.Q......', '.....Q..', 'Q.......', '......Q.', '...Q....', '.......Q', '..Q.....'], ['....Q...', '.Q......', '.......Q', 'Q.......', '...Q....', '......Q.', '..Q.....', '.....Q..'], ['....Q...', '..Q.....', 'Q.......', '.....Q..', '.......Q', '.Q......', '...Q....', '......Q.'], ['....Q...', '..Q.....', 'Q.......', '......Q.', '.Q......', '.......Q', '.....Q..', '...Q....'], ['....Q...', '..Q.....', '.......Q', '...Q....', '......Q.', 'Q.......', '.....Q..', '.Q......'], ['....Q...', '......Q.', 'Q.......', '..Q.....', '.......Q', '.....Q..', '...Q....', '.Q......'], ['....Q...', '......Q.', 'Q.......', '...Q....', '.Q......', '.......Q', '.....Q..', '..Q.....'], ['....Q...', '......Q.', '.Q......', '...Q....', '.......Q', 'Q.......', '..Q.....', '.....Q..'], ['....Q...', '......Q.', '.Q......', '.....Q..', '..Q.....', 'Q.......', '...Q....', '.......Q'], ['....Q...', '......Q.', '.Q......', '.....Q..', '..Q.....', 'Q.......', '.......Q', '...Q....'], ['....Q...', '......Q.', '...Q....', 'Q.......', '..Q.....', '.......Q', '.....Q..', '.Q......'], ['....Q...', '.......Q', '...Q....', 'Q.......', '..Q.....', '.....Q..', '.Q......', '......Q.'], ['....Q...', '.......Q', '...Q....', 'Q.......', '......Q.', '.Q......', '.....Q..', '..Q.....'], ['.....Q..', 'Q.......', '....Q...', '.Q......', '.......Q', '..Q.....', '......Q.', '...Q....'], ['.....Q..', '.Q......', '......Q.', 'Q.......', '..Q.....', '....Q...', '.......Q', '...Q....'], ['.....Q..', '.Q......', '......Q.', 'Q.......', '...Q....', '.......Q', '....Q...', '..Q.....'], ['.....Q..', '..Q.....', 'Q.......', '......Q.', '....Q...', '.......Q', '.Q......', '...Q....'], ['.....Q..', '..Q.....', 'Q.......', '.......Q', '...Q....', '.Q......', '......Q.', '....Q...'], ['.....Q..', '..Q.....', 'Q.......', '.......Q', '....Q...', '.Q......', '...Q....', '......Q.'], ['.....Q..', '..Q.....', '....Q...', '......Q.', 'Q.......', '...Q....', '.Q......', '.......Q'], ['.....Q..', '..Q.....', '....Q...', '.......Q', 'Q.......', '...Q....', '.Q......', '......Q.'], ['.....Q..', '..Q.....', '......Q.', '.Q......', '...Q....', '.......Q', 'Q.......', '....Q...'], ['.....Q..', '..Q.....', '......Q.', '.Q......', '.......Q', '....Q...', 'Q.......', '...Q....'], ['.....Q..', '..Q.....', '......Q.', '...Q....', 'Q.......', '.......Q', '.Q......', '....Q...'], ['.....Q..', '...Q....', 'Q.......', '....Q...', '.......Q', '.Q......', '......Q.', '..Q.....'], ['.....Q..', '...Q....', '.Q......', '.......Q', '....Q...', '......Q.', 'Q.......', '..Q.....'], ['.....Q..', '...Q....', '......Q.', 'Q.......', '..Q.....', '....Q...', '.Q......', '.......Q'], ['.....Q..', '...Q....', '......Q.', 'Q.......', '.......Q', '.Q......', '....Q...', '..Q.....'], ['.....Q..', '.......Q', '.Q......', '...Q....', 'Q.......', '......Q.', '....Q...', '..Q.....'], ['......Q.', 'Q.......', '..Q.....', '.......Q', '.....Q..', '...Q....', '.Q......', '....Q...'], ['......Q.', '.Q......', '...Q....', 'Q.......', '.......Q', '....Q...', '..Q.....', '.....Q..'], ['......Q.', '.Q......', '.....Q..', '..Q.....', 'Q.......', '...Q....', '.......Q', '....Q...'], ['......Q.', '..Q.....', 'Q.......', '.....Q..', '.......Q', '....Q...', '.Q......', '...Q....'], ['......Q.', '..Q.....', '.......Q', '.Q......', '....Q...', 'Q.......', '.....Q..', '...Q....'], ['......Q.', '...Q....', '.Q......', '....Q...', '.......Q', 'Q.......', '..Q.....', '.....Q..'], ['......Q.', '...Q....', '.Q......', '.......Q', '.....Q..', 'Q.......', '..Q.....', '....Q...'], ['......Q.', '....Q...', '..Q.....', 'Q.......', '.....Q..', '.......Q', '.Q......', '...Q....'], ['.......Q', '.Q......', '...Q....', 'Q.......', '......Q.', '....Q...', '..Q.....', '.....Q..'], ['.......Q', '.Q......', '....Q...', '..Q.....', 'Q.......', '......Q.', '...Q....', '.....Q..'], ['.......Q', '..Q.....', 'Q.......', '.....Q..', '.Q......', '....Q...', '......Q.', '...Q....'], ['.......Q', '...Q....', 'Q.......', '..Q.....', '.....Q..', '.Q......', '......Q.', '....Q...']]\n"
          ]
        }
      ]
    },
    {
      "cell_type": "code",
      "source": [
        "# 51. N-Queens (optimized)\n",
        "def N_queens_solve(row,cols,left_diag,right_diag,board,ans):\n",
        "  if(row==n):\n",
        "    return ans.append([''.join(r) for r in board])\n",
        "  for col in range(n):\n",
        "    if (col in cols or (row-col) in left_diag or (row+col) in right_diag):\n",
        "      continue\n",
        "    # Place Queen\n",
        "    board[row][col]='Q'\n",
        "    cols.add(col)\n",
        "    left_diag.add(row-col)\n",
        "    right_diag.add(row+col)\n",
        "    # Recurse to next row\n",
        "    N_queens_solve(row+1,cols,left_diag,right_diag,board,ans)\n",
        "    # Remove Queen (Backtrack)\n",
        "    board[row][col]='.'\n",
        "    cols.remove(col)\n",
        "    left_diag.remove(row-col)\n",
        "    right_diag.remove(row+col)\n",
        "  return ans\n",
        "n=4\n",
        "board=[['.']*n for _ in range(n)]\n",
        "ans=[]\n",
        "print(N_queens_solve(0,set(),set(),set(),board,ans))"
      ],
      "metadata": {
        "colab": {
          "base_uri": "https://localhost:8080/"
        },
        "id": "TCY9ZUK2zRI6",
        "outputId": "cbf97075-46bc-4d3d-e398-af5675b63330"
      },
      "execution_count": 51,
      "outputs": [
        {
          "output_type": "stream",
          "name": "stdout",
          "text": [
            "[['.Q..', '...Q', 'Q...', '..Q.'], ['..Q.', 'Q...', '...Q', '.Q..']]\n"
          ]
        }
      ]
    },
    {
      "cell_type": "code",
      "source": [
        "# 52. N-Queens - ||\n",
        "def N_queens_solve(row,cols,left_diag,right_diag,board):\n",
        "  if(row==n):\n",
        "    return ans.append([''.join(r) for r in board])\n",
        "  for col in range(n):\n",
        "    if (col in cols or (row-col) in left_diag or (row+col) in right_diag):\n",
        "      continue\n",
        "    # Place Queen\n",
        "    board[row][col]='Q'\n",
        "    cols.add(col)\n",
        "    left_diag.add(row-col)\n",
        "    right_diag.add(row+col)\n",
        "    # Recurse to next row\n",
        "    N_queens_solve(row+1,cols,left_diag,right_diag,board)\n",
        "    # Remove Queen (Backtrack)\n",
        "    board[row][col]='.'\n",
        "    cols.remove(col)\n",
        "    left_diag.remove(row-col)\n",
        "    right_diag.remove(row+col)\n",
        "  return ans\n",
        "n=4\n",
        "board=[['.']*n for _ in range(n)]\n",
        "ans=[]\n",
        "print(len(N_queens_solve(0,set(),set(),set(),board)))"
      ],
      "metadata": {
        "colab": {
          "base_uri": "https://localhost:8080/"
        },
        "id": "ceWK5T3H1r_2",
        "outputId": "8d04db61-1d49-4ccd-a588-02045a0302f9"
      },
      "execution_count": 54,
      "outputs": [
        {
          "output_type": "stream",
          "name": "stdout",
          "text": [
            "2\n"
          ]
        }
      ]
    }
  ]
}