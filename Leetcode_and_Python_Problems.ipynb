{
  "nbformat": 4,
  "nbformat_minor": 0,
  "metadata": {
    "colab": {
      "provenance": [],
      "authorship_tag": "ABX9TyMf7sm9W9/QUAW1tNwBzAwx",
      "include_colab_link": true
    },
    "kernelspec": {
      "name": "python3",
      "display_name": "Python 3"
    },
    "language_info": {
      "name": "python"
    }
  },
  "cells": [
    {
      "cell_type": "markdown",
      "metadata": {
        "id": "view-in-github",
        "colab_type": "text"
      },
      "source": [
        "<a href=\"https://colab.research.google.com/github/shuvad23/Leetcode-Problems/blob/main/Leetcode_and_Python_Problems.ipynb\" target=\"_parent\"><img src=\"https://colab.research.google.com/assets/colab-badge.svg\" alt=\"Open In Colab\"/></a>"
      ]
    },
    {
      "cell_type": "markdown",
      "source": [
        "### 220. Contains Duplicate III"
      ],
      "metadata": {
        "id": "WKNluPoe46Fd"
      }
    },
    {
      "cell_type": "code",
      "execution_count": null,
      "metadata": {
        "colab": {
          "base_uri": "https://localhost:8080/"
        },
        "id": "pw_ODruy4wKh",
        "outputId": "b14bdbd3-68f4-4496-c699-6b2818df3a29"
      },
      "outputs": [
        {
          "output_type": "stream",
          "name": "stdout",
          "text": [
            "True\n",
            "0.00018143653869628906\n"
          ]
        }
      ],
      "source": [
        "from operator import index\n",
        "# def containsNearbyAlmostDuplicate(nums, indexDiff, valueDiff):\n",
        "#     count=dict()\n",
        "#     for idx,value in enumerate(nums):\n",
        "#       if(len(count)>0):\n",
        "#         if((count[value]!=idx) and abs(count[value]-idx)<=indexDiff and abs(value-value)<=valueDiff):\n",
        "#             return True\n",
        "#         else:\n",
        "#             count[value]=idx\n",
        "#       else:\n",
        "#         count[value]=idx\n",
        "#     return False\n",
        "\n",
        "import time\n",
        "\n",
        "def containsNearbyAlmostDuplicate(nums, indexDiff, valueDiff):\n",
        "    for idx,value in enumerate(nums):\n",
        "      for ref_idx,ref_value in enumerate(nums[idx:idx+indexDiff+1]):\n",
        "        if((ref_idx+idx!=idx) and (abs((ref_idx+idx)-idx)<=indexDiff) and (abs(ref_value-value)<=valueDiff)):\n",
        "            return True\n",
        "    return False\n",
        "\n",
        "\n",
        "# def containsNearbyAlmostDuplicate(nums, indexDiff, valueDiff):\n",
        "#   i=0\n",
        "#   ref_list=[(value,idx) for idx,value in enumerate(nums)]\n",
        "#   for j in range(len(ref_list)-1):\n",
        "#     if(abs(ref_list[i][0]-ref_list[j+1][0])<=valueDiff):\n",
        "#       if(abs(ref_list[i][1]-ref_list[j+1][1])<=indexDiff):\n",
        "#         return True\n",
        "#       else:\n",
        "#         i+=1\n",
        "#     else:\n",
        "#       if(abs(ref_list[i][1]-ref_list[j+1][1])>indexDiff):\n",
        "#         i+=1\n",
        "#   return False\n",
        "\n",
        "\n",
        "start=time.time()\n",
        "print(containsNearbyAlmostDuplicate([1,5,9,1,5,9],2,3))\n",
        "print(time.time()-start)"
      ]
    },
    {
      "cell_type": "code",
      "source": [
        "from sortedcontainers import SortedList\n",
        "\n",
        "def containsNearbyAlmostDuplicate(nums, indexDiff, valueDiff):\n",
        "    if indexDiff <= 0 or valueDiff < 0:\n",
        "        return False\n",
        "\n",
        "    window = SortedList()\n",
        "\n",
        "    for i in range(len(nums)):\n",
        "        # Find the smallest number >= nums[i] - valueDiff\n",
        "        pos = window.bisect_left(nums[i] - valueDiff)\n",
        "        # Check if such number is within valueDiff\n",
        "        if pos < len(window) and abs(window[pos] - nums[i]) <= valueDiff:\n",
        "            return True\n",
        "\n",
        "        window.add(nums[i])\n",
        "        print(window)\n",
        "\n",
        "        # Keep the window size within indexDiff\n",
        "        if i >= indexDiff:\n",
        "            window.remove(nums[i - indexDiff])\n",
        "\n",
        "    return False\n",
        "print(containsNearbyAlmostDuplicate([1,5,9,1,5,9],2,3))"
      ],
      "metadata": {
        "colab": {
          "base_uri": "https://localhost:8080/"
        },
        "id": "TI7eW9Gi5TwE",
        "outputId": "c65fe7d9-989e-4354-cad6-a4178c64beb3"
      },
      "execution_count": null,
      "outputs": [
        {
          "output_type": "stream",
          "name": "stdout",
          "text": [
            "SortedList([1])\n",
            "SortedList([1, 5])\n",
            "SortedList([1, 5, 9])\n",
            "SortedList([5, 9])\n",
            "SortedList([1, 5, 9])\n",
            "SortedList([1, 9])\n",
            "SortedList([1, 5, 9])\n",
            "SortedList([1, 5])\n",
            "SortedList([1, 5, 9])\n",
            "SortedList([5, 9])\n",
            "False\n"
          ]
        }
      ]
    },
    {
      "cell_type": "code",
      "source": [
        "# -*- coding: utf-8 -*-\n",
        "# Write Python code from here\n",
        "def bracket_matching(string):\n",
        "    n=len(string)\n",
        "    bracket_dict={'[':3,'{':2,'(':1,')':1,'}':2,']':3}\n",
        "    if(n%2==0):\n",
        "        mid=n//2\n",
        "        incerement=0\n",
        "        for bracket in range(1,mid):\n",
        "            if(bracket_dict[string[mid-bracket]]!=bracket_dict[string[mid+incerement]]):\n",
        "                print(string[mid-bracket])\n",
        "                print(string[mid+incerement])\n",
        "                return \"Brackets are not balanced.\"\n",
        "            # elif(bracket_dict[string[mid-bracket]] >bracket_dict[string[mid-(bracket+1)]]):\n",
        "            #     return \"Brackets are not balanced.\"\n",
        "            incerement+=1\n",
        "        return \"Brackets are balanced.\"\n",
        "    else:\n",
        "        return \"Brackets are not balanced.\"\n",
        "\n",
        "\n",
        "string=\"{[]}\"\n",
        "print(bracket_matching(list(string)))"
      ],
      "metadata": {
        "id": "Mva9zBIZLQBN",
        "colab": {
          "base_uri": "https://localhost:8080/"
        },
        "outputId": "0e94f604-5adf-4acf-ccea-4995c1f0d846"
      },
      "execution_count": null,
      "outputs": [
        {
          "output_type": "stream",
          "name": "stdout",
          "text": [
            "Brackets are balanced.\n"
          ]
        }
      ]
    },
    {
      "cell_type": "code",
      "source": [
        "def rectangle_circle(width,height,radius_of_circle):\n",
        "    half_of_hypotenuse=((pow(width,2)+pow(height,2))**0.5)/2\n",
        "    if half_of_hypotenuse==radius_of_circle:\n",
        "        return True\n",
        "    else:\n",
        "        return False\n",
        "# a,b,c=input().split(' ')\n",
        "print(rectangle_circle(4,4,8))"
      ],
      "metadata": {
        "colab": {
          "base_uri": "https://localhost:8080/"
        },
        "id": "ezn_BuCfSuKl",
        "outputId": "54887701-17b0-4824-e6b9-2668af832c70"
      },
      "execution_count": null,
      "outputs": [
        {
          "output_type": "stream",
          "name": "stdout",
          "text": [
            "False\n"
          ]
        }
      ]
    },
    {
      "cell_type": "code",
      "source": [
        "# -*- coding: utf-8 -*-\n",
        "# Write Python code from here\n",
        "def fft_count(arr):\n",
        "  list1=[]\n",
        "  list2=[]\n",
        "  count=0\n",
        "  for word in arr:\n",
        "    if(word[0]=='F'):\n",
        "      list1.append(word)\n",
        "    elif(word[0]=='T'):\n",
        "      list1.append(word)\n",
        "    if(len(list1)==3):\n",
        "      if(list1[0][0]=='F' and list1[1][0]=='F' and list1[2][0]=='T'):\n",
        "        count+=1\n",
        "        list2.append(' '.join(list1))\n",
        "        list1.pop(0)\n",
        "      else:\n",
        "        list1.pop(0)\n",
        "  if(count>0):\n",
        "    print(count)\n",
        "    for string in list2:\n",
        "      print(string)\n",
        "  else:\n",
        "      print(count)\n",
        "\n",
        "nums=int(input())\n",
        "arr=[]\n",
        "for i in range(nums):\n",
        "  arr.append(input())\n",
        "fft_count(arr)"
      ],
      "metadata": {
        "id": "5Vb3plm6L5hB"
      },
      "execution_count": null,
      "outputs": []
    },
    {
      "cell_type": "code",
      "source": [
        "def product_arr(nums):\n",
        "  n=len(nums)\n",
        "  prefix=[0]*n\n",
        "  posfix=[0]*n\n",
        "\n",
        "  final_list=[1]*n\n",
        "  for i in range(n):\n",
        "    if(i==0):\n",
        "      prefix[i]=1\n",
        "      posfix[(n-1)-i]=1\n",
        "    else:\n",
        "      prefix[i]=nums[i-1]*prefix[i-1]\n",
        "      posfix[(n-1)-i]=nums[n-i]*posfix[n-i]\n",
        "\n",
        "      # prefix.append(1)\n",
        "      # posfix.append(1)\n",
        "      # prefix[i]=nums[i-1]*prefix[i-1]\n",
        "      # posfix[(n-1)-i]=nums[(n-1)+i]*posfix[(n-1)+i]\n",
        "      # prefix.append(nums[i-1]*prefix[i-1])\n",
        "      # posfix.insert(0,nums[(n-1)-i]*posfix[0])\n",
        "\n",
        "  for i in range(n):\n",
        "    final_list[i]=prefix[i]*posfix[i]\n",
        "  return final_list\n",
        "\n",
        "arr=[1,2,3,4]\n",
        "print(product_arr(arr))"
      ],
      "metadata": {
        "colab": {
          "base_uri": "https://localhost:8080/"
        },
        "id": "Is3SroB3daZG",
        "outputId": "1eee8171-9c72-4112-de12-46ee431218d9"
      },
      "execution_count": null,
      "outputs": [
        {
          "output_type": "stream",
          "name": "stdout",
          "text": [
            "[24, 12, 8, 6]\n"
          ]
        }
      ]
    },
    {
      "cell_type": "code",
      "source": [
        "from collections import Counter\n",
        "def frequency_analysis(arr):\n",
        "  count=Counter(arr)\n",
        "  sort=sorted(count.items(),key=lambda x: x[1])\n",
        "  print(sort)\n",
        "\n",
        "arr=[1 ,1, 1, 2, 2, 2, 3, 3, 3, 4, 4, 4, 4, 5, 5, 5 ]\n",
        "frequency_analysis(arr)"
      ],
      "metadata": {
        "colab": {
          "base_uri": "https://localhost:8080/"
        },
        "id": "TSQ1i4TJjZ_0",
        "outputId": "d6fc6ac2-e158-451b-e32c-89809cbb04e6"
      },
      "execution_count": null,
      "outputs": [
        {
          "output_type": "stream",
          "name": "stdout",
          "text": [
            "[(1, 3), (2, 3), (3, 3), (5, 3), (4, 4)]\n"
          ]
        }
      ]
    },
    {
      "cell_type": "code",
      "source": [
        "def power(x,n):\n",
        "    if abs(n)==0 : return 1\n",
        "    if abs(x)==0 : return 0\n",
        "    def power_of(power_value):\n",
        "        res=x\n",
        "        if power_value==1:\n",
        "            return x\n",
        "        res*=power_of(power_value-1)\n",
        "        return res\n",
        "    if(abs(n)%2==0):\n",
        "        result=power_of(abs(n)//2)\n",
        "        return result*result if n>=0 else 1/(result*result)\n",
        "    else:\n",
        "        result=power_of((abs(n)-1)//2)\n",
        "        return x*result*result if n>=0 else 1/(x*result*result)\n",
        "print(power(2,6))"
      ],
      "metadata": {
        "colab": {
          "base_uri": "https://localhost:8080/"
        },
        "id": "NPjRVuWopj5C",
        "outputId": "0b88f461-3236-4436-9d7c-1f06a0731617"
      },
      "execution_count": null,
      "outputs": [
        {
          "output_type": "stream",
          "name": "stdout",
          "text": [
            "64\n"
          ]
        }
      ]
    },
    {
      "cell_type": "code",
      "source": [
        "# 50. Pow(x, n)\n",
        "def power(x,n):\n",
        "  if abs(n)==0 : return 1\n",
        "  if abs(x)==0 : return 0\n",
        "  def power_of(x,n):\n",
        "    ans=1\n",
        "    while(n>0):\n",
        "      if(n%2!=0):\n",
        "        ans*=x\n",
        "      x*=x\n",
        "      n//=2\n",
        "    return ans\n",
        "  return power_of(x,n) if n>0 else power_of(1/x,-n)\n",
        "print(power(-3.0,-5))"
      ],
      "metadata": {
        "colab": {
          "base_uri": "https://localhost:8080/"
        },
        "id": "OFvLMydcHY3L",
        "outputId": "e1813c7c-793f-4f64-d72b-a5abda545405"
      },
      "execution_count": null,
      "outputs": [
        {
          "output_type": "stream",
          "name": "stdout",
          "text": [
            "-0.004115226337448559\n"
          ]
        }
      ]
    },
    {
      "cell_type": "code",
      "source": [
        "from collections import defaultdict\n",
        "from fractions import Fraction\n",
        "def max_points(points):\n",
        "  result=1\n",
        "  for i in range(len(points)):\n",
        "    p1=points[i]\n",
        "    slope_count=defaultdict(int)\n",
        "    for j in range(i+1,len(points)):\n",
        "      p2=points[j]\n",
        "      if(p2[0]==p1[0]):\n",
        "        slope=float('inf')\n",
        "      else:\n",
        "        slope=Fraction((p2[1]-p1[1]),(p2[0]-p1[0]))\n",
        "      slope_count[slope]+=1\n",
        "      print(slope_count)\n",
        "      result=max(result,slope_count[slope]+1)\n",
        "      print(result)\n",
        "  return result\n",
        "arr=[[0,0],[4,5],[7,8],[8,9],[5,6],[3,4],[1,1]]\n",
        "print(max_points(arr))"
      ],
      "metadata": {
        "colab": {
          "base_uri": "https://localhost:8080/"
        },
        "id": "oJuVSAIkmPpX",
        "outputId": "51a7a6b5-dac6-41ad-c709-24f30583cc4e"
      },
      "execution_count": null,
      "outputs": [
        {
          "output_type": "stream",
          "name": "stdout",
          "text": [
            "defaultdict(<class 'int'>, {Fraction(5, 4): 1})\n",
            "2\n",
            "defaultdict(<class 'int'>, {Fraction(5, 4): 1, Fraction(8, 7): 1})\n",
            "2\n",
            "defaultdict(<class 'int'>, {Fraction(5, 4): 1, Fraction(8, 7): 1, Fraction(9, 8): 1})\n",
            "2\n",
            "defaultdict(<class 'int'>, {Fraction(5, 4): 1, Fraction(8, 7): 1, Fraction(9, 8): 1, Fraction(6, 5): 1})\n",
            "2\n",
            "defaultdict(<class 'int'>, {Fraction(5, 4): 1, Fraction(8, 7): 1, Fraction(9, 8): 1, Fraction(6, 5): 1, Fraction(4, 3): 1})\n",
            "2\n",
            "defaultdict(<class 'int'>, {Fraction(5, 4): 1, Fraction(8, 7): 1, Fraction(9, 8): 1, Fraction(6, 5): 1, Fraction(4, 3): 1, Fraction(1, 1): 1})\n",
            "2\n",
            "defaultdict(<class 'int'>, {Fraction(1, 1): 1})\n",
            "2\n",
            "defaultdict(<class 'int'>, {Fraction(1, 1): 2})\n",
            "3\n",
            "defaultdict(<class 'int'>, {Fraction(1, 1): 3})\n",
            "4\n",
            "defaultdict(<class 'int'>, {Fraction(1, 1): 4})\n",
            "5\n",
            "defaultdict(<class 'int'>, {Fraction(1, 1): 4, Fraction(4, 3): 1})\n",
            "5\n",
            "defaultdict(<class 'int'>, {Fraction(1, 1): 1})\n",
            "5\n",
            "defaultdict(<class 'int'>, {Fraction(1, 1): 2})\n",
            "5\n",
            "defaultdict(<class 'int'>, {Fraction(1, 1): 3})\n",
            "5\n",
            "defaultdict(<class 'int'>, {Fraction(1, 1): 3, Fraction(7, 6): 1})\n",
            "5\n",
            "defaultdict(<class 'int'>, {Fraction(1, 1): 1})\n",
            "5\n",
            "defaultdict(<class 'int'>, {Fraction(1, 1): 2})\n",
            "5\n",
            "defaultdict(<class 'int'>, {Fraction(1, 1): 2, Fraction(8, 7): 1})\n",
            "5\n",
            "defaultdict(<class 'int'>, {Fraction(1, 1): 1})\n",
            "5\n",
            "defaultdict(<class 'int'>, {Fraction(1, 1): 1, Fraction(5, 4): 1})\n",
            "5\n",
            "defaultdict(<class 'int'>, {Fraction(3, 2): 1})\n",
            "5\n",
            "5\n"
          ]
        }
      ]
    },
    {
      "cell_type": "code",
      "source": [
        "from collections import Counter\n",
        "def remove_element(arr,k):\n",
        "  if k not in arr:\n",
        "    return len(arr)\n",
        "  count=Counter(arr)\n",
        "  return len(arr)-count[k]\n",
        "arr=[0,1,2,2,3,0,4,2]\n",
        "k=2\n",
        "print(remove_element(arr,k))"
      ],
      "metadata": {
        "colab": {
          "base_uri": "https://localhost:8080/"
        },
        "id": "it5TKiTfKf3a",
        "outputId": "55312e5c-bf8f-4be3-9221-cec386dbbd42"
      },
      "execution_count": null,
      "outputs": [
        {
          "output_type": "stream",
          "name": "stdout",
          "text": [
            "5\n"
          ]
        }
      ]
    },
    {
      "cell_type": "code",
      "source": [
        "\n",
        "def remove_element(arr,k):\n",
        "  i=0\n",
        "  j=len(arr)\n",
        "  while(i<j):\n",
        "    if(arr[i]==k):\n",
        "      arr[i]=arr[j-1]\n",
        "      j-=1\n",
        "    else:\n",
        "      i+=1\n",
        "  return i\n",
        "\n",
        "arr=[0,1,2,2,3,0,4,2]\n",
        "k=2\n",
        "print(remove_element(arr,k))"
      ],
      "metadata": {
        "colab": {
          "base_uri": "https://localhost:8080/"
        },
        "id": "X72t6Vuvx8Wn",
        "outputId": "94aa19ae-4c27-47f1-f40d-c5123ac19044"
      },
      "execution_count": null,
      "outputs": [
        {
          "output_type": "stream",
          "name": "stdout",
          "text": [
            "5\n"
          ]
        }
      ]
    }
  ]
}